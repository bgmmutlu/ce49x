{
 "cells": [
  {
   "cell_type": "code",
   "execution_count": 1,
   "id": "85a0a09b-207b-49e4-8419-5041b3def78a",
   "metadata": {},
   "outputs": [],
   "source": [
    "import pandas as pd"
   ]
  },
  {
   "cell_type": "code",
   "execution_count": 2,
   "id": "75aa4f59-8000-4c42-aef4-25250b06430b",
   "metadata": {},
   "outputs": [
    {
     "name": "stdout",
     "output_type": "stream",
     "text": [
      "Traffic Data Analysis:\n",
      "Minimum vehicle count: 260\n",
      "Maximum vehicle count: 660\n",
      "Mean vehicle count: 454.52\n"
     ]
    }
   ],
   "source": [
    "def main():\n",
    "    # Load the traffic dataset\n",
    "    try:\n",
    "        df = pd.read_csv('../../datasets/traffic_data.csv')\n",
    "    except FileNotFoundError:\n",
    "        print(\"Error: The dataset file was not found. Please ensure 'traffic_data.csv' is located in the /datasets/ folder.\")\n",
    "        return\n",
    "\n",
    "    # Compute basic descriptive statistics for 'vehicle_count'\n",
    "    min_value = df['vehicle_count'].min()\n",
    "    max_value = df['vehicle_count'].max()\n",
    "    mean_value = df['vehicle_count'].mean()\n",
    "\n",
    "    # Print the results\n",
    "    print(\"Traffic Data Analysis:\")\n",
    "    print(f\"Minimum vehicle count: {min_value}\")\n",
    "    print(f\"Maximum vehicle count: {max_value}\")\n",
    "    print(f\"Mean vehicle count: {mean_value:.2f}\")\n",
    "\n",
    "if __name__ == '__main__':\n",
    "    main()\n",
    "    "
   ]
  },
  {
   "cell_type": "code",
   "execution_count": null,
   "id": "31fe08d3-8180-4feb-a0e2-929bd8592f9a",
   "metadata": {},
   "outputs": [],
   "source": []
  }
 ],
 "metadata": {
  "kernelspec": {
   "display_name": "Python 3 (ipykernel)",
   "language": "python",
   "name": "python3"
  },
  "language_info": {
   "codemirror_mode": {
    "name": "ipython",
    "version": 3
   },
   "file_extension": ".py",
   "mimetype": "text/x-python",
   "name": "python",
   "nbconvert_exporter": "python",
   "pygments_lexer": "ipython3",
   "version": "3.10.16"
  }
 },
 "nbformat": 4,
 "nbformat_minor": 5
}
